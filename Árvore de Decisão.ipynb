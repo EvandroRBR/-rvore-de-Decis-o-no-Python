{
 "cells": [
  {
   "cell_type": "markdown",
   "metadata": {},
   "source": [
    "## Importação de Bibliotecas"
   ]
  },
  {
   "cell_type": "code",
   "execution_count": 1,
   "metadata": {},
   "outputs": [],
   "source": [
    "import pandas as pd\n",
    "from sklearn.tree import DecisionTreeClassifier\n",
    "from matplotlib import pyplot as plt\n",
    "from sklearn import metrics\n",
    "%matplotlib inline"
   ]
  },
  {
   "cell_type": "markdown",
   "metadata": {},
   "source": [
    "## Leitura de Arquivo CSV definindo o delimitador para \";\""
   ]
  },
  {
   "cell_type": "code",
   "execution_count": 2,
   "metadata": {},
   "outputs": [
    {
     "data": {
      "text/html": [
       "<div>\n",
       "<style scoped>\n",
       "    .dataframe tbody tr th:only-of-type {\n",
       "        vertical-align: middle;\n",
       "    }\n",
       "\n",
       "    .dataframe tbody tr th {\n",
       "        vertical-align: top;\n",
       "    }\n",
       "\n",
       "    .dataframe thead th {\n",
       "        text-align: right;\n",
       "    }\n",
       "</style>\n",
       "<table border=\"1\" class=\"dataframe\">\n",
       "  <thead>\n",
       "    <tr style=\"text-align: right;\">\n",
       "      <th></th>\n",
       "      <th>montante</th>\n",
       "      <th>idade</th>\n",
       "      <th>salario</th>\n",
       "      <th>tem_conta</th>\n",
       "      <th>empresta</th>\n",
       "    </tr>\n",
       "  </thead>\n",
       "  <tbody>\n",
       "    <tr>\n",
       "      <th>0</th>\n",
       "      <td>Medio</td>\n",
       "      <td>Senior</td>\n",
       "      <td>Baixo</td>\n",
       "      <td>Sim</td>\n",
       "      <td>Nao</td>\n",
       "    </tr>\n",
       "    <tr>\n",
       "      <th>1</th>\n",
       "      <td>Medio</td>\n",
       "      <td>Senior</td>\n",
       "      <td>Baixo</td>\n",
       "      <td>Nao</td>\n",
       "      <td>Nao</td>\n",
       "    </tr>\n",
       "    <tr>\n",
       "      <th>2</th>\n",
       "      <td>Baixo</td>\n",
       "      <td>Senior</td>\n",
       "      <td>Baixo</td>\n",
       "      <td>Sim</td>\n",
       "      <td>Sim</td>\n",
       "    </tr>\n",
       "    <tr>\n",
       "      <th>3</th>\n",
       "      <td>Alto</td>\n",
       "      <td>Media</td>\n",
       "      <td>Baixo</td>\n",
       "      <td>Sim</td>\n",
       "      <td>Sim</td>\n",
       "    </tr>\n",
       "    <tr>\n",
       "      <th>4</th>\n",
       "      <td>Alto</td>\n",
       "      <td>Jovem</td>\n",
       "      <td>Alto</td>\n",
       "      <td>Sim</td>\n",
       "      <td>Sim</td>\n",
       "    </tr>\n",
       "  </tbody>\n",
       "</table>\n",
       "</div>"
      ],
      "text/plain": [
       "  montante   idade salario tem_conta empresta\n",
       "0    Medio  Senior   Baixo       Sim      Nao\n",
       "1    Medio  Senior   Baixo       Nao      Nao\n",
       "2    Baixo  Senior   Baixo       Sim      Sim\n",
       "3     Alto   Media   Baixo       Sim      Sim\n",
       "4     Alto   Jovem    Alto       Sim      Sim"
      ]
     },
     "execution_count": 2,
     "metadata": {},
     "output_type": "execute_result"
    }
   ],
   "source": [
    "df = pd.read_csv(\"emprestimo.csv\", sep=\";\")\n",
    "df.head()"
   ]
  },
  {
   "cell_type": "markdown",
   "metadata": {},
   "source": [
    "### Mostrando as colunas do data frame"
   ]
  },
  {
   "cell_type": "code",
   "execution_count": 3,
   "metadata": {},
   "outputs": [
    {
     "name": "stdout",
     "output_type": "stream",
     "text": [
      "montante ['Medio' 'Baixo' 'Alto']\n",
      "idade ['Senior' 'Media' 'Jovem']\n",
      "salario ['Baixo' 'Alto']\n",
      "tem_conta ['Sim' 'Nao']\n",
      "empresta ['Nao' 'Sim']\n"
     ]
    }
   ],
   "source": [
    "for col in df:\n",
    "  print(col, df[col].unique())"
   ]
  },
  {
   "cell_type": "markdown",
   "metadata": {},
   "source": [
    "## Alteração do tipo dos dados para numéricos"
   ]
  },
  {
   "cell_type": "code",
   "execution_count": 4,
   "metadata": {},
   "outputs": [
    {
     "name": "stdout",
     "output_type": "stream",
     "text": [
      "<class 'pandas.core.frame.DataFrame'>\n",
      "RangeIndex: 14 entries, 0 to 13\n",
      "Data columns (total 5 columns):\n",
      " #   Column     Non-Null Count  Dtype \n",
      "---  ------     --------------  ----- \n",
      " 0   montante   14 non-null     int64 \n",
      " 1   idade      14 non-null     int64 \n",
      " 2   salario    14 non-null     int64 \n",
      " 3   tem_conta  14 non-null     int64 \n",
      " 4   empresta   14 non-null     object\n",
      "dtypes: int64(4), object(1)\n",
      "memory usage: 688.0+ bytes\n"
     ]
    }
   ],
   "source": [
    "translate = {\n",
    "    'montante': {'Alto':2,'Baixo':0,'Medio': 1},\n",
    "    'idade': {'Senior':2,'Media':1,'Jovem':0},\n",
    "    'salario': {'Baixo':0,'Alto':1},\n",
    "    'tem_conta': {'Sim':1,'Nao':0},\n",
    "    'empresta': {'Sim': 'Sim','Nao':'Nao'},\n",
    "}\n",
    "for col in df:\n",
    "    df[col] = df[col].apply(lambda k: translate[col][k])\n",
    "\n",
    "df.info()"
   ]
  },
  {
   "cell_type": "markdown",
   "metadata": {},
   "source": [
    "## Treinando do Modelo"
   ]
  },
  {
   "cell_type": "code",
   "execution_count": 5,
   "metadata": {},
   "outputs": [
    {
     "data": {
      "text/plain": [
       "'train size: 9 test size: 5'"
      ]
     },
     "execution_count": 5,
     "metadata": {},
     "output_type": "execute_result"
    }
   ],
   "source": [
    "from sklearn.model_selection import train_test_split\n",
    "train, test = train_test_split(df, test_size=0.33, random_state=666)\n",
    "train.reset_index(inplace=True)\n",
    "test.reset_index(inplace=True)\n",
    "f\"train size: {len(train)} test size: {len(test)}\""
   ]
  },
  {
   "cell_type": "code",
   "execution_count": 6,
   "metadata": {},
   "outputs": [],
   "source": [
    "def data_target_split(df: pd.DataFrame):\n",
    "  target = df['empresta']\n",
    "  data = df.loc[:, 'montante':'tem_conta']\n",
    "  return data, target \n",
    "train_x, train_y = data_target_split(train)\n",
    "test_x, test_y = data_target_split(test)"
   ]
  },
  {
   "cell_type": "code",
   "execution_count": 7,
   "metadata": {},
   "outputs": [],
   "source": [
    "from dataclasses import dataclass\n",
    "@dataclass(frozen=True)\n",
    "class ModelResult:\n",
    "  n: int\n",
    "  clf: DecisionTreeClassifier\n",
    "  acc: float"
   ]
  },
  {
   "cell_type": "code",
   "execution_count": 8,
   "metadata": {},
   "outputs": [
    {
     "name": "stdout",
     "output_type": "stream",
     "text": [
      "(1, 0.6) (2, 0.8) (3, 0.6)\n"
     ]
    }
   ],
   "source": [
    "def tree_model(max_depth: int):\n",
    "    clf = DecisionTreeClassifier(max_depth=max_depth, criterion='entropy', random_state=42) \n",
    "    \n",
    "    clf.fit(train_x, train_y)\n",
    "\n",
    "    pred_y = clf.predict(test_x)\n",
    "    acc = metrics.accuracy_score(test_y, pred_y)\n",
    "    return ModelResult(acc=acc, clf=clf, n=max_depth)\n",
    "\n",
    "results = {n: tree_model(n) for n in range(1,4)}\n",
    "print(*[(n, r.acc) for n, r in results.items()])"
   ]
  },
  {
   "cell_type": "markdown",
   "metadata": {},
   "source": [
    "## Apresentação dos Resultados"
   ]
  },
  {
   "cell_type": "markdown",
   "metadata": {},
   "source": [
    "### Plotagem da árvore"
   ]
  },
  {
   "cell_type": "code",
   "execution_count": 9,
   "metadata": {},
   "outputs": [
    {
     "name": "stdout",
     "output_type": "stream",
     "text": [
      "Index(['montante', 'idade', 'salario', 'tem_conta'], dtype='object') ['Sim' 'Nao']\n"
     ]
    },
    {
     "data": {
      "text/plain": [
       "[Text(0.6, 0.8333333333333334, 'salario <= 0.5\\nentropy = 0.764\\nsamples = 9\\nvalue = [2, 7]\\nclass = Nao'),\n",
       " Text(0.4, 0.5, 'montante <= 0.5\\nentropy = 1.0\\nsamples = 4\\nvalue = [2, 2]\\nclass = Sim'),\n",
       " Text(0.2, 0.16666666666666666, 'entropy = 0.0\\nsamples = 1\\nvalue = [0, 1]\\nclass = Nao'),\n",
       " Text(0.6, 0.16666666666666666, 'entropy = 0.918\\nsamples = 3\\nvalue = [2, 1]\\nclass = Sim'),\n",
       " Text(0.8, 0.5, 'entropy = 0.0\\nsamples = 5\\nvalue = [0, 5]\\nclass = Nao')]"
      ]
     },
     "execution_count": 9,
     "metadata": {},
     "output_type": "execute_result"
    },
    {
     "data": {
      "image/png": "[encoded data removed]",
      "text/plain": [
       "<Figure size 432x288 with 1 Axes>"
      ]
     },
     "metadata": {
      "needs_background": "light"
     },
     "output_type": "display_data"
    }
   ],
   "source": [
    "from sklearn import tree\n",
    "\n",
    "clf = results[2].clf\n",
    "f_names = test_x.columns\n",
    "c_names = test_y.unique().astype(str)\n",
    "print(f_names, c_names)\n",
    "tree.plot_tree(clf, feature_names=f_names,class_names=c_names, filled=True)"
   ]
  },
  {
   "cell_type": "markdown",
   "metadata": {},
   "source": [
    "### Matriz de confusão"
   ]
  },
  {
   "cell_type": "code",
   "execution_count": 10,
   "metadata": {},
   "outputs": [
    {
     "data": {
      "image/png": "[encoded data removed]",
      "text/plain": [
       "<Figure size 432x288 with 2 Axes>"
      ]
     },
     "metadata": {
      "needs_background": "light"
     },
     "output_type": "display_data"
    }
   ],
   "source": [
    "from sklearn.metrics import confusion_matrix, ConfusionMatrixDisplay\n",
    "predictions = clf.predict(test_x);\n",
    "cm = confusion_matrix(test_y, predictions, labels=clf.classes_)\n",
    "disp = ConfusionMatrixDisplay(confusion_matrix=cm,display_labels=clf.classes_)\n",
    "disp.plot()\n",
    "plt.show()"
   ]
  },
  {
   "cell_type": "markdown",
   "metadata": {},
   "source": [
    "### Testando para uma entrada específica:"
   ]
  },
  {
   "cell_type": "code",
   "execution_count": 11,
   "metadata": {},
   "outputs": [
    {
     "data": {
      "text/plain": [
       "array(['Sim'], dtype=object)"
      ]
     },
     "execution_count": 11,
     "metadata": {},
     "output_type": "execute_result"
    }
   ],
   "source": [
    "W_test = pd.DataFrame({'montante': [0], 'idade': [2], 'salario': [0], 'tem_conta': [1]})\n",
    "y_pred = clf.predict(W_test)\n",
    "y_pred"
   ]
  }
 ],
 "metadata": {
  "interpreter": {
   "hash": "31f2aee4e71d21fbe5cf8b01ff0e069b9275f58929596ceb00d14d90e3e16cd6"
  },
  "kernelspec": {
   "display_name": "Python 3.8.10 64-bit",
   "language": "python",
   "name": "python3"
  },
  "language_info": {
   "codemirror_mode": {
    "name": "ipython",
    "version": 3
   },
   "file_extension": ".py",
   "mimetype": "text/x-python",
   "name": "python",
   "nbconvert_exporter": "python",
   "pygments_lexer": "ipython3",
   "version": "3.8.10"
  },
  "orig_nbformat": 4
 },
 "nbformat": 4,
 "nbformat_minor": 2
}
